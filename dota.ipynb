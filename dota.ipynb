{
  "nbformat": 4,
  "nbformat_minor": 0,
  "metadata": {
    "colab": {
      "name": "dota - wlc.ipynb",
      "version": "0.3.2",
      "views": {},
      "default_view": {},
      "provenance": [],
      "collapsed_sections": []
    },
    "kernelspec": {
      "name": "python2",
      "display_name": "Python 2"
    },
    "accelerator": "GPU"
  },
  "cells": [
    {
      "metadata": {
        "id": "-BJJOigzi72m",
        "colab_type": "text"
      },
      "cell_type": "markdown",
      "source": [
        "#Dota2胜利结果预测\n",
        "组员： \n",
        "- 郑毽 315010\n",
        "- 温力成 3150104417\n"
      ]
    },
    {
      "metadata": {
        "id": "kZpbhqvudKEu",
        "colab_type": "text"
      },
      "cell_type": "markdown",
      "source": [
        "#前序准备工作"
      ]
    },
    {
      "metadata": {
        "id": "8whhlXqldSqr",
        "colab_type": "text"
      },
      "cell_type": "markdown",
      "source": [
        "导入相关库"
      ]
    },
    {
      "metadata": {
        "id": "zuVyB2wKpdBe",
        "colab_type": "code",
        "colab": {
          "autoexec": {
            "startup": false,
            "wait_interval": 0
          }
        }
      },
      "cell_type": "code",
      "source": [
        "import math\n",
        "from IPython import display\n",
        "from matplotlib import cm\n",
        "from matplotlib import gridspec\n",
        "from matplotlib import pyplot as plt\n",
        "import numpy as np\n",
        "import pandas as pd\n",
        "from sklearn import metrics\n",
        "import tensorflow as tf\n",
        "from tensorflow.python.data import Dataset\n",
        "from sklearn.datasets import make_classification\n",
        "from sklearn.model_selection import train_test_split\n",
        "from sklearn import svm"
      ],
      "execution_count": 0,
      "outputs": []
    },
    {
      "metadata": {
        "id": "0UKQ9OO_dUaD",
        "colab_type": "text"
      },
      "cell_type": "markdown",
      "source": [
        "从Google Drive中读入文件"
      ]
    },
    {
      "metadata": {
        "id": "TUDqEsWcIPId",
        "colab_type": "code",
        "colab": {
          "autoexec": {
            "startup": false,
            "wait_interval": 0
          }
        }
      },
      "cell_type": "code",
      "source": [
        "# Code to read csv file into colaboratory:\n",
        "!pip install -U -q PyDrive\n",
        "from pydrive.auth import GoogleAuth\n",
        "from pydrive.drive import GoogleDrive\n",
        "from google.colab import auth\n",
        "from oauth2client.client import GoogleCredentials\n",
        "\n",
        "# 1. Authenticate and create the PyDrive client.\n",
        "auth.authenticate_user()\n",
        "gauth = GoogleAuth()\n",
        "gauth.credentials = GoogleCredentials.get_application_default()\n",
        "drive = GoogleDrive(gauth)\n",
        "\n",
        "#2. Get the file  \n",
        "#Get origin file\n",
        "downloaded = drive.CreateFile({'id':'1yFlOzaHc5QHyBhZ9Jd3uhr2lWy4s0ho0'}) # Origin file ID\n",
        "downloaded.GetContentFile('features.csv')  \n",
        "#Get test file \n",
        "downloaded = drive.CreateFile({'id':'1_S2EjH9CHWUtCsDa58gWfWu_YnTUkAwM'}) # test file ID\n",
        "downloaded.GetContentFile('features_test.csv')  \n",
        "\n",
        "#3. Read file as panda dataframe\n",
        "import pandas as pd\n",
        "dota_test_features = pd.read_csv('features_test.csv')\n",
        "dota_features = pd.read_csv('features.csv')"
      ],
      "execution_count": 0,
      "outputs": []
    },
    {
      "metadata": {
        "id": "ZeaVWaeVdZMM",
        "colab_type": "text"
      },
      "cell_type": "markdown",
      "source": [
        "导入文件中的data"
      ]
    },
    {
      "metadata": {
        "id": "NE1CAval5XqP",
        "colab_type": "code",
        "colab": {
          "autoexec": {
            "startup": false,
            "wait_interval": 0
          }
        }
      },
      "cell_type": "code",
      "source": [
        "def preprocess_features(dota_features):\n",
        "  \"\"\"Prepares input features from California housing data set.\n",
        "\n",
        "  Args:\n",
        "    california_housing_dataframe: A Pandas DataFrame expected to contain data\n",
        "      from the California housing data set.\n",
        "  Returns:\n",
        "    A DataFrame that contains the features to be used for the model, including\n",
        "    synthetic features.\n",
        "  \"\"\"\n",
        "  selected_features = dota_features[\n",
        "    [ \"r1_xp\",\n",
        "      \"r1_gold\",\n",
        "      \"r1_kills\",\n",
        "      \"r1_deaths\",\n",
        "      \"r1_lh\",\n",
        "      \"r2_xp\",\n",
        "      \"r2_gold\",\n",
        "      \"r2_kills\",\n",
        "      \"r2_deaths\",\n",
        "      \"r2_lh\",\n",
        "      \"r3_xp\",\n",
        "      \"r3_gold\",\n",
        "      \"r3_kills\",\n",
        "      \"r3_deaths\",\n",
        "      \"r3_lh\",\n",
        "      \"r4_xp\",\n",
        "      \"r4_gold\",\n",
        "      \"r4_kills\",\n",
        "      \"r4_deaths\",\n",
        "      \"r4_lh\",\n",
        "      \"r5_xp\",\n",
        "      \"r5_gold\",\n",
        "      \"r5_kills\",\n",
        "      \"r5_deaths\",\n",
        "      \"r5_lh\",\n",
        "      \"d1_xp\",\n",
        "      \"d1_gold\",\n",
        "      \"d1_kills\",\n",
        "      \"d1_deaths\",\n",
        "      \"d1_lh\",\n",
        "      \"d2_xp\",\n",
        "      \"d2_gold\",\n",
        "      \"d2_kills\",\n",
        "      \"d2_deaths\",\n",
        "      \"d2_lh\",\n",
        "      \"d3_xp\",\n",
        "      \"d3_gold\",\n",
        "      \"d3_kills\",\n",
        "      \"d3_deaths\",\n",
        "      \"d3_lh\",\n",
        "      \"d4_xp\",\n",
        "      \"d4_gold\",\n",
        "      \"d4_kills\",\n",
        "      \"d4_deaths\",\n",
        "      \"d4_lh\",\n",
        "      \"d5_xp\",\n",
        "      \"d5_gold\",\n",
        "      \"d5_kills\",\n",
        "      \"d5_deaths\",\n",
        "      \"d5_lh\",\n",
        "    \"dire_ward_observer_count\",\n",
        "    \"dire_boots_count\",\n",
        "    \"dire_ward_sentry_count\",\n",
        "     \"radiant_boots_count\",\n",
        "     \"radiant_ward_observer_count\",\n",
        "     \"radiant_ward_sentry_count\"\n",
        "    ]]\n",
        "  processed_features = selected_features.copy()\n",
        "  # Create a synthetic feature.\n",
        "  #processed_features[\"first_blood\"] =  dota_features[\"first_blood_team\"]==1\n",
        "  #processed_features[\"hero1\"] = (\n",
        "  #  dota_features[\"r1_level\"] +100)\n",
        "  return processed_features\n",
        "\n",
        "\n",
        "def preprocess_targets(dota_features):\n",
        "  \"\"\"Prepares target features (i.e., labels) from California housing data set.\n",
        "\n",
        "  Args:\n",
        "    california_housing_dataframe: A Pandas DataFrame expected to contain data\n",
        "      from the California housing data set.\n",
        "  Returns:\n",
        "    A DataFrame that contains the target feature.\n",
        "  \"\"\"\n",
        "  output_targets = pd.DataFrame()\n",
        "  # Scale the target to be in units of thousands of dollars.\n",
        "  output_targets[\"radiant_win\"] = (\n",
        "    dota_features[\"radiant_win\"] *1 )\n",
        "  return output_targets\n"
      ],
      "execution_count": 0,
      "outputs": []
    },
    {
      "metadata": {
        "id": "i8VFTZDHcb9q",
        "colab_type": "text"
      },
      "cell_type": "markdown",
      "source": [
        "以下我们选取若干个数据作为训练集（此处以10000个为例）"
      ]
    },
    {
      "metadata": {
        "id": "PlLwB29xMih5",
        "colab_type": "code",
        "colab": {
          "autoexec": {
            "startup": false,
            "wait_interval": 0
          },
          "base_uri": "https://localhost:8080/",
          "height": 334
        },
        "outputId": "935b1c8d-37f5-4512-b6d3-bb14c6f460af",
        "executionInfo": {
          "status": "ok",
          "timestamp": 1524658609790,
          "user_tz": -480,
          "elapsed": 536,
          "user": {
            "displayName": "温力成",
            "photoUrl": "//lh3.googleusercontent.com/-ifhVTrJ-LUs/AAAAAAAAAAI/AAAAAAAAAB8/B3xxHO0YEvw/s50-c-k-no/photo.jpg",
            "userId": "103637985383520117463"
          }
        }
      },
      "cell_type": "code",
      "source": [
        "training_examples = preprocess_features(dota_features.head(10000))\n",
        "training_examples.describe()\n"
      ],
      "execution_count": 109,
      "outputs": [
        {
          "output_type": "execute_result",
          "data": {
            "text/html": [
              "<div>\n",
              "<style scoped>\n",
              "    .dataframe tbody tr th:only-of-type {\n",
              "        vertical-align: middle;\n",
              "    }\n",
              "\n",
              "    .dataframe tbody tr th {\n",
              "        vertical-align: top;\n",
              "    }\n",
              "\n",
              "    .dataframe thead th {\n",
              "        text-align: right;\n",
              "    }\n",
              "</style>\n",
              "<table border=\"1\" class=\"dataframe\">\n",
              "  <thead>\n",
              "    <tr style=\"text-align: right;\">\n",
              "      <th></th>\n",
              "      <th>r1_xp</th>\n",
              "      <th>r1_gold</th>\n",
              "      <th>r1_kills</th>\n",
              "      <th>r1_deaths</th>\n",
              "      <th>r1_lh</th>\n",
              "      <th>r2_xp</th>\n",
              "      <th>r2_gold</th>\n",
              "      <th>r2_kills</th>\n",
              "      <th>r2_deaths</th>\n",
              "      <th>r2_lh</th>\n",
              "      <th>...</th>\n",
              "      <th>d5_gold</th>\n",
              "      <th>d5_kills</th>\n",
              "      <th>d5_deaths</th>\n",
              "      <th>d5_lh</th>\n",
              "      <th>dire_ward_observer_count</th>\n",
              "      <th>dire_boots_count</th>\n",
              "      <th>dire_ward_sentry_count</th>\n",
              "      <th>radiant_boots_count</th>\n",
              "      <th>radiant_ward_observer_count</th>\n",
              "      <th>radiant_ward_sentry_count</th>\n",
              "    </tr>\n",
              "  </thead>\n",
              "  <tbody>\n",
              "    <tr>\n",
              "      <th>count</th>\n",
              "      <td>10000.000000</td>\n",
              "      <td>10000.000000</td>\n",
              "      <td>10000.000000</td>\n",
              "      <td>10000.00000</td>\n",
              "      <td>10000.000000</td>\n",
              "      <td>10000.000000</td>\n",
              "      <td>10000.00000</td>\n",
              "      <td>10000.000000</td>\n",
              "      <td>10000.000000</td>\n",
              "      <td>10000.000000</td>\n",
              "      <td>...</td>\n",
              "      <td>10000.000000</td>\n",
              "      <td>10000.000000</td>\n",
              "      <td>10000.000000</td>\n",
              "      <td>10000.000000</td>\n",
              "      <td>10000.000000</td>\n",
              "      <td>10000.00000</td>\n",
              "      <td>10000.000000</td>\n",
              "      <td>10000.000000</td>\n",
              "      <td>10000.000000</td>\n",
              "      <td>10000.000000</td>\n",
              "    </tr>\n",
              "    <tr>\n",
              "      <th>mean</th>\n",
              "      <td>1210.906700</td>\n",
              "      <td>1121.842300</td>\n",
              "      <td>0.331400</td>\n",
              "      <td>0.35330</td>\n",
              "      <td>11.166800</td>\n",
              "      <td>1190.033800</td>\n",
              "      <td>1101.36090</td>\n",
              "      <td>0.333700</td>\n",
              "      <td>0.341800</td>\n",
              "      <td>10.770300</td>\n",
              "      <td>...</td>\n",
              "      <td>1099.554400</td>\n",
              "      <td>0.349700</td>\n",
              "      <td>0.321400</td>\n",
              "      <td>10.585200</td>\n",
              "      <td>2.389400</td>\n",
              "      <td>3.34830</td>\n",
              "      <td>0.570900</td>\n",
              "      <td>3.296300</td>\n",
              "      <td>2.369100</td>\n",
              "      <td>0.596800</td>\n",
              "    </tr>\n",
              "    <tr>\n",
              "      <th>std</th>\n",
              "      <td>586.565483</td>\n",
              "      <td>455.066721</td>\n",
              "      <td>0.653924</td>\n",
              "      <td>0.62938</td>\n",
              "      <td>9.322471</td>\n",
              "      <td>576.928588</td>\n",
              "      <td>457.74468</td>\n",
              "      <td>0.646054</td>\n",
              "      <td>0.617261</td>\n",
              "      <td>9.384218</td>\n",
              "      <td>...</td>\n",
              "      <td>458.862079</td>\n",
              "      <td>0.673242</td>\n",
              "      <td>0.595934</td>\n",
              "      <td>9.350705</td>\n",
              "      <td>0.785003</td>\n",
              "      <td>1.16255</td>\n",
              "      <td>0.666346</td>\n",
              "      <td>1.165265</td>\n",
              "      <td>0.796448</td>\n",
              "      <td>0.719918</td>\n",
              "    </tr>\n",
              "    <tr>\n",
              "      <th>min</th>\n",
              "      <td>0.000000</td>\n",
              "      <td>0.000000</td>\n",
              "      <td>0.000000</td>\n",
              "      <td>0.00000</td>\n",
              "      <td>0.000000</td>\n",
              "      <td>0.000000</td>\n",
              "      <td>0.00000</td>\n",
              "      <td>0.000000</td>\n",
              "      <td>0.000000</td>\n",
              "      <td>0.000000</td>\n",
              "      <td>...</td>\n",
              "      <td>0.000000</td>\n",
              "      <td>0.000000</td>\n",
              "      <td>0.000000</td>\n",
              "      <td>0.000000</td>\n",
              "      <td>0.000000</td>\n",
              "      <td>0.00000</td>\n",
              "      <td>0.000000</td>\n",
              "      <td>0.000000</td>\n",
              "      <td>0.000000</td>\n",
              "      <td>0.000000</td>\n",
              "    </tr>\n",
              "    <tr>\n",
              "      <th>25%</th>\n",
              "      <td>718.000000</td>\n",
              "      <td>716.000000</td>\n",
              "      <td>0.000000</td>\n",
              "      <td>0.00000</td>\n",
              "      <td>2.000000</td>\n",
              "      <td>714.000000</td>\n",
              "      <td>697.00000</td>\n",
              "      <td>0.000000</td>\n",
              "      <td>0.000000</td>\n",
              "      <td>2.000000</td>\n",
              "      <td>...</td>\n",
              "      <td>699.000000</td>\n",
              "      <td>0.000000</td>\n",
              "      <td>0.000000</td>\n",
              "      <td>2.000000</td>\n",
              "      <td>2.000000</td>\n",
              "      <td>3.00000</td>\n",
              "      <td>0.000000</td>\n",
              "      <td>3.000000</td>\n",
              "      <td>2.000000</td>\n",
              "      <td>0.000000</td>\n",
              "    </tr>\n",
              "    <tr>\n",
              "      <th>50%</th>\n",
              "      <td>1122.000000</td>\n",
              "      <td>1070.000000</td>\n",
              "      <td>0.000000</td>\n",
              "      <td>0.00000</td>\n",
              "      <td>10.000000</td>\n",
              "      <td>1086.000000</td>\n",
              "      <td>1035.00000</td>\n",
              "      <td>0.000000</td>\n",
              "      <td>0.000000</td>\n",
              "      <td>9.000000</td>\n",
              "      <td>...</td>\n",
              "      <td>1025.000000</td>\n",
              "      <td>0.000000</td>\n",
              "      <td>0.000000</td>\n",
              "      <td>9.000000</td>\n",
              "      <td>2.000000</td>\n",
              "      <td>3.00000</td>\n",
              "      <td>0.000000</td>\n",
              "      <td>3.000000</td>\n",
              "      <td>2.000000</td>\n",
              "      <td>1.000000</td>\n",
              "    </tr>\n",
              "    <tr>\n",
              "      <th>75%</th>\n",
              "      <td>1706.000000</td>\n",
              "      <td>1461.250000</td>\n",
              "      <td>1.000000</td>\n",
              "      <td>1.00000</td>\n",
              "      <td>19.000000</td>\n",
              "      <td>1677.000000</td>\n",
              "      <td>1448.25000</td>\n",
              "      <td>1.000000</td>\n",
              "      <td>1.000000</td>\n",
              "      <td>19.000000</td>\n",
              "      <td>...</td>\n",
              "      <td>1437.000000</td>\n",
              "      <td>1.000000</td>\n",
              "      <td>1.000000</td>\n",
              "      <td>18.000000</td>\n",
              "      <td>3.000000</td>\n",
              "      <td>4.00000</td>\n",
              "      <td>1.000000</td>\n",
              "      <td>4.000000</td>\n",
              "      <td>3.000000</td>\n",
              "      <td>1.000000</td>\n",
              "    </tr>\n",
              "    <tr>\n",
              "      <th>max</th>\n",
              "      <td>2965.000000</td>\n",
              "      <td>3068.000000</td>\n",
              "      <td>7.000000</td>\n",
              "      <td>5.00000</td>\n",
              "      <td>47.000000</td>\n",
              "      <td>3157.000000</td>\n",
              "      <td>2915.00000</td>\n",
              "      <td>5.000000</td>\n",
              "      <td>5.000000</td>\n",
              "      <td>40.000000</td>\n",
              "      <td>...</td>\n",
              "      <td>3301.000000</td>\n",
              "      <td>7.000000</td>\n",
              "      <td>4.000000</td>\n",
              "      <td>41.000000</td>\n",
              "      <td>6.000000</td>\n",
              "      <td>8.00000</td>\n",
              "      <td>5.000000</td>\n",
              "      <td>8.000000</td>\n",
              "      <td>7.000000</td>\n",
              "      <td>25.000000</td>\n",
              "    </tr>\n",
              "  </tbody>\n",
              "</table>\n",
              "<p>8 rows × 56 columns</p>\n",
              "</div>"
            ],
            "text/plain": [
              "              r1_xp       r1_gold      r1_kills    r1_deaths         r1_lh  \\\n",
              "count  10000.000000  10000.000000  10000.000000  10000.00000  10000.000000   \n",
              "mean    1210.906700   1121.842300      0.331400      0.35330     11.166800   \n",
              "std      586.565483    455.066721      0.653924      0.62938      9.322471   \n",
              "min        0.000000      0.000000      0.000000      0.00000      0.000000   \n",
              "25%      718.000000    716.000000      0.000000      0.00000      2.000000   \n",
              "50%     1122.000000   1070.000000      0.000000      0.00000     10.000000   \n",
              "75%     1706.000000   1461.250000      1.000000      1.00000     19.000000   \n",
              "max     2965.000000   3068.000000      7.000000      5.00000     47.000000   \n",
              "\n",
              "              r2_xp      r2_gold      r2_kills     r2_deaths         r2_lh  \\\n",
              "count  10000.000000  10000.00000  10000.000000  10000.000000  10000.000000   \n",
              "mean    1190.033800   1101.36090      0.333700      0.341800     10.770300   \n",
              "std      576.928588    457.74468      0.646054      0.617261      9.384218   \n",
              "min        0.000000      0.00000      0.000000      0.000000      0.000000   \n",
              "25%      714.000000    697.00000      0.000000      0.000000      2.000000   \n",
              "50%     1086.000000   1035.00000      0.000000      0.000000      9.000000   \n",
              "75%     1677.000000   1448.25000      1.000000      1.000000     19.000000   \n",
              "max     3157.000000   2915.00000      5.000000      5.000000     40.000000   \n",
              "\n",
              "                 ...                   d5_gold      d5_kills     d5_deaths  \\\n",
              "count            ...              10000.000000  10000.000000  10000.000000   \n",
              "mean             ...               1099.554400      0.349700      0.321400   \n",
              "std              ...                458.862079      0.673242      0.595934   \n",
              "min              ...                  0.000000      0.000000      0.000000   \n",
              "25%              ...                699.000000      0.000000      0.000000   \n",
              "50%              ...               1025.000000      0.000000      0.000000   \n",
              "75%              ...               1437.000000      1.000000      1.000000   \n",
              "max              ...               3301.000000      7.000000      4.000000   \n",
              "\n",
              "              d5_lh  dire_ward_observer_count  dire_boots_count  \\\n",
              "count  10000.000000              10000.000000       10000.00000   \n",
              "mean      10.585200                  2.389400           3.34830   \n",
              "std        9.350705                  0.785003           1.16255   \n",
              "min        0.000000                  0.000000           0.00000   \n",
              "25%        2.000000                  2.000000           3.00000   \n",
              "50%        9.000000                  2.000000           3.00000   \n",
              "75%       18.000000                  3.000000           4.00000   \n",
              "max       41.000000                  6.000000           8.00000   \n",
              "\n",
              "       dire_ward_sentry_count  radiant_boots_count  \\\n",
              "count            10000.000000         10000.000000   \n",
              "mean                 0.570900             3.296300   \n",
              "std                  0.666346             1.165265   \n",
              "min                  0.000000             0.000000   \n",
              "25%                  0.000000             3.000000   \n",
              "50%                  0.000000             3.000000   \n",
              "75%                  1.000000             4.000000   \n",
              "max                  5.000000             8.000000   \n",
              "\n",
              "       radiant_ward_observer_count  radiant_ward_sentry_count  \n",
              "count                 10000.000000               10000.000000  \n",
              "mean                      2.369100                   0.596800  \n",
              "std                       0.796448                   0.719918  \n",
              "min                       0.000000                   0.000000  \n",
              "25%                       2.000000                   0.000000  \n",
              "50%                       2.000000                   1.000000  \n",
              "75%                       3.000000                   1.000000  \n",
              "max                       7.000000                  25.000000  \n",
              "\n",
              "[8 rows x 56 columns]"
            ]
          },
          "metadata": {
            "tags": []
          },
          "execution_count": 109
        }
      ]
    },
    {
      "metadata": {
        "id": "9xNOOr0pTEkh",
        "colab_type": "code",
        "colab": {
          "autoexec": {
            "startup": false,
            "wait_interval": 0
          },
          "base_uri": "https://localhost:8080/",
          "height": 286
        },
        "outputId": "710b499a-9c32-4fcf-a96f-22480d0fb297",
        "executionInfo": {
          "status": "ok",
          "timestamp": 1524658613051,
          "user_tz": -480,
          "elapsed": 574,
          "user": {
            "displayName": "温力成",
            "photoUrl": "//lh3.googleusercontent.com/-ifhVTrJ-LUs/AAAAAAAAAAI/AAAAAAAAAB8/B3xxHO0YEvw/s50-c-k-no/photo.jpg",
            "userId": "103637985383520117463"
          }
        }
      },
      "cell_type": "code",
      "source": [
        "training_targets = preprocess_targets(dota_features.head(10000))\n",
        "training_targets.describe()"
      ],
      "execution_count": 110,
      "outputs": [
        {
          "output_type": "execute_result",
          "data": {
            "text/html": [
              "<div>\n",
              "<style scoped>\n",
              "    .dataframe tbody tr th:only-of-type {\n",
              "        vertical-align: middle;\n",
              "    }\n",
              "\n",
              "    .dataframe tbody tr th {\n",
              "        vertical-align: top;\n",
              "    }\n",
              "\n",
              "    .dataframe thead th {\n",
              "        text-align: right;\n",
              "    }\n",
              "</style>\n",
              "<table border=\"1\" class=\"dataframe\">\n",
              "  <thead>\n",
              "    <tr style=\"text-align: right;\">\n",
              "      <th></th>\n",
              "      <th>radiant_win</th>\n",
              "    </tr>\n",
              "  </thead>\n",
              "  <tbody>\n",
              "    <tr>\n",
              "      <th>count</th>\n",
              "      <td>10000.000000</td>\n",
              "    </tr>\n",
              "    <tr>\n",
              "      <th>mean</th>\n",
              "      <td>0.509700</td>\n",
              "    </tr>\n",
              "    <tr>\n",
              "      <th>std</th>\n",
              "      <td>0.499931</td>\n",
              "    </tr>\n",
              "    <tr>\n",
              "      <th>min</th>\n",
              "      <td>0.000000</td>\n",
              "    </tr>\n",
              "    <tr>\n",
              "      <th>25%</th>\n",
              "      <td>0.000000</td>\n",
              "    </tr>\n",
              "    <tr>\n",
              "      <th>50%</th>\n",
              "      <td>1.000000</td>\n",
              "    </tr>\n",
              "    <tr>\n",
              "      <th>75%</th>\n",
              "      <td>1.000000</td>\n",
              "    </tr>\n",
              "    <tr>\n",
              "      <th>max</th>\n",
              "      <td>1.000000</td>\n",
              "    </tr>\n",
              "  </tbody>\n",
              "</table>\n",
              "</div>"
            ],
            "text/plain": [
              "        radiant_win\n",
              "count  10000.000000\n",
              "mean       0.509700\n",
              "std        0.499931\n",
              "min        0.000000\n",
              "25%        0.000000\n",
              "50%        1.000000\n",
              "75%        1.000000\n",
              "max        1.000000"
            ]
          },
          "metadata": {
            "tags": []
          },
          "execution_count": 110
        }
      ]
    },
    {
      "metadata": {
        "id": "E-51hSIrdl3P",
        "colab_type": "text"
      },
      "cell_type": "markdown",
      "source": [
        "格式转化"
      ]
    },
    {
      "metadata": {
        "id": "H0ObXqssOKMw",
        "colab_type": "code",
        "colab": {
          "autoexec": {
            "startup": false,
            "wait_interval": 0
          },
          "base_uri": "https://localhost:8080/",
          "height": 34
        },
        "outputId": "ef27532d-55d2-4899-896b-a806ac27647d",
        "executionInfo": {
          "status": "ok",
          "timestamp": 1524674317268,
          "user_tz": -480,
          "elapsed": 529,
          "user": {
            "displayName": "温力成",
            "photoUrl": "//lh3.googleusercontent.com/-ifhVTrJ-LUs/AAAAAAAAAAI/AAAAAAAAAB8/B3xxHO0YEvw/s50-c-k-no/photo.jpg",
            "userId": "103637985383520117463"
          }
        }
      },
      "cell_type": "code",
      "source": [
        "origin_features=np.array(training_examples)\n",
        "origin_targets=np.array(training_targets)\n",
        "origin_targets=np.column_stack((origin_targets,-(origin_targets-1)))\n",
        "X, X_test, Y, Y_test = train_test_split(origin_features, origin_targets)\n",
        "print np.shape(X)"
      ],
      "execution_count": 168,
      "outputs": [
        {
          "output_type": "stream",
          "text": [
            "(7500, 56)\n"
          ],
          "name": "stdout"
        }
      ]
    },
    {
      "metadata": {
        "id": "AnA_ETBS_4wW",
        "colab_type": "text"
      },
      "cell_type": "markdown",
      "source": [
        "#SVM分类器\n",
        "支持向量机（support vector machine），故一般简称SVM，它是一种二类分类模型，其基本模型定义为特征空间上的间隔最大的线性分类器。其学习策略便是间隔最大化，最终可转化为一个凸二次规划问题的求解。\n",
        "\n",
        "- 代码使用scikit-learn自带的SVM模块的SVC函数。\n",
        "- 内核选择为rbf核函数，决策函数设置为ovo，伽马值默认为1/2\n",
        "\n"
      ]
    },
    {
      "metadata": {
        "id": "nF2K-AR5_32U",
        "colab_type": "code",
        "colab": {
          "autoexec": {
            "startup": false,
            "wait_interval": 0
          },
          "base_uri": "https://localhost:8080/",
          "height": 87
        },
        "outputId": "54c216e5-9f10-44ab-cdc5-da9ac33397a9",
        "executionInfo": {
          "status": "ok",
          "timestamp": 1524671510517,
          "user_tz": -480,
          "elapsed": 6693,
          "user": {
            "displayName": "温力成",
            "photoUrl": "//lh3.googleusercontent.com/-ifhVTrJ-LUs/AAAAAAAAAAI/AAAAAAAAAB8/B3xxHO0YEvw/s50-c-k-no/photo.jpg",
            "userId": "103637985383520117463"
          }
        }
      },
      "cell_type": "code",
      "source": [
        "#clf = svm.SVC(C=0.1, kernel='linear', decision_function_shape='ovr')\n",
        "clf = svm.SVC(C=0.51, kernel='rbf', gamma=0.5, decision_function_shape='ovo')\n",
        "#clf = svm.SVC()\n",
        "clf.fit(X, Y.ravel())"
      ],
      "execution_count": 124,
      "outputs": [
        {
          "output_type": "execute_result",
          "data": {
            "text/plain": [
              "SVC(C=0.51, cache_size=200, class_weight=None, coef0=0.0,\n",
              "  decision_function_shape='ovo', degree=3, gamma=0.5, kernel='rbf',\n",
              "  max_iter=-1, probability=False, random_state=None, shrinking=True,\n",
              "  tol=0.001, verbose=False)"
            ]
          },
          "metadata": {
            "tags": []
          },
          "execution_count": 124
        }
      ]
    },
    {
      "metadata": {
        "id": "kGw67njmDC5Z",
        "colab_type": "code",
        "colab": {
          "autoexec": {
            "startup": false,
            "wait_interval": 0
          },
          "base_uri": "https://localhost:8080/",
          "height": 52
        },
        "outputId": "4df6bd9f-b3c9-402a-eaee-32f8df0169b4",
        "executionInfo": {
          "status": "ok",
          "timestamp": 1524671521996,
          "user_tz": -480,
          "elapsed": 11224,
          "user": {
            "displayName": "温力成",
            "photoUrl": "//lh3.googleusercontent.com/-ifhVTrJ-LUs/AAAAAAAAAAI/AAAAAAAAAB8/B3xxHO0YEvw/s50-c-k-no/photo.jpg",
            "userId": "103637985383520117463"
          }
        }
      },
      "cell_type": "code",
      "source": [
        "np.set_printoptions(threshold='nan')\n",
        "print clf.score(X, Y)  # 精度\n",
        "y_hat = clf.predict(X)\n",
        "print clf.score(X_test, Y_test)\n",
        "y_hat = clf.predict(X_test)"
      ],
      "execution_count": 125,
      "outputs": [
        {
          "output_type": "stream",
          "text": [
            "0.9994666666666666\n",
            "0.5144\n"
          ],
          "name": "stdout"
        }
      ]
    },
    {
      "metadata": {
        "id": "ZA3Rbk9Ad177",
        "colab_type": "text"
      },
      "cell_type": "markdown",
      "source": [
        "惩罚力度C=0.50时，训练集精度0.5084 测试集精度0.5144\n",
        "\n",
        "惩罚力度C=0.51时，训练集精度0.9994 测试集精度0.5144\n",
        "\n",
        "效果并不明显\n"
      ]
    },
    {
      "metadata": {
        "id": "XjdOd1IuoJDj",
        "colab_type": "text"
      },
      "cell_type": "markdown",
      "source": [
        "#随机森林算法\n",
        "\n",
        "决策树算法在训练参数选择不是很合理的情况下，会产生过拟合的现象，导致泛化能力变弱。\n",
        "\n",
        "随机森林采用多个决策树的投票机制来改善决策树，我们假设随机森林使用了m棵决策树，那么就需要产生m个一定数量的样本集来训练每一棵树。\n",
        "\n",
        "随机森林的生成方法：\n",
        "1. 从样本集中通过重采样的方式产生n个样本\n",
        "2. 假设样本特征数目为a，对n个样本选择a中的k个特征，用建立决策树的方式获得最佳分割点\n",
        "3. 重复m次，产生m棵决策树\n",
        "4. 多数投票机制来进行预测\n"
      ]
    },
    {
      "metadata": {
        "id": "yxSGV54voMEG",
        "colab_type": "code",
        "colab": {
          "autoexec": {
            "startup": false,
            "wait_interval": 0
          },
          "base_uri": "https://localhost:8080/",
          "height": 34
        },
        "outputId": "b90eecca-dd5e-4d6b-def7-beb52564e0f2",
        "executionInfo": {
          "status": "ok",
          "timestamp": 1524673420144,
          "user_tz": -480,
          "elapsed": 1139,
          "user": {
            "displayName": "温力成",
            "photoUrl": "//lh3.googleusercontent.com/-ifhVTrJ-LUs/AAAAAAAAAAI/AAAAAAAAAB8/B3xxHO0YEvw/s50-c-k-no/photo.jpg",
            "userId": "103637985383520117463"
          }
        }
      },
      "cell_type": "code",
      "source": [
        "from sklearn.cross_validation import cross_val_score\n",
        "from sklearn.datasets import make_blobs\n",
        "from sklearn.ensemble import RandomForestClassifier\n",
        "from sklearn.ensemble import ExtraTreesClassifier\n",
        "from sklearn.tree import DecisionTreeClassifier\n",
        "clf = DecisionTreeClassifier(max_depth=None, min_samples_split=3,random_state=0)\n",
        "scores = cross_val_score(clf, X, Y.ravel())\n",
        "scores.mean()       "
      ],
      "execution_count": 153,
      "outputs": [
        {
          "output_type": "execute_result",
          "data": {
            "text/plain": [
              "0.566798460885087"
            ]
          },
          "metadata": {
            "tags": []
          },
          "execution_count": 153
        }
      ]
    },
    {
      "metadata": {
        "id": "WQbrUqvjiO9O",
        "colab_type": "text"
      },
      "cell_type": "markdown",
      "source": [
        "首先优化参数n_estimators，即树木总数。\n"
      ]
    },
    {
      "metadata": {
        "id": "eLCGFxJwohQt",
        "colab_type": "code",
        "colab": {
          "autoexec": {
            "startup": false,
            "wait_interval": 0
          },
          "base_uri": "https://localhost:8080/",
          "height": 698
        },
        "outputId": "c6e81e98-ded3-43be-bacc-85db12c920a0",
        "executionInfo": {
          "status": "ok",
          "timestamp": 1524673483720,
          "user_tz": -480,
          "elapsed": 62682,
          "user": {
            "displayName": "温力成",
            "photoUrl": "//lh3.googleusercontent.com/-ifhVTrJ-LUs/AAAAAAAAAAI/AAAAAAAAAB8/B3xxHO0YEvw/s50-c-k-no/photo.jpg",
            "userId": "103637985383520117463"
          }
        }
      },
      "cell_type": "code",
      "source": [
        "a=[]\n",
        "b=[]\n",
        "for i in range(15):\n",
        "  a.append((i+1)*10)\n",
        "  clf = RandomForestClassifier(n_estimators=(i+1)*10,  min_samples_split=2, random_state=0)\n",
        "  print \"n_estimate:\",(i+1)*10\n",
        "  scores = cross_val_score(clf, X, Y.ravel())\n",
        "  b.append(scores.mean())  \n",
        "print \"Optimization Complete!\"\n",
        "A = np.array(a)\n",
        "B = np.array(b)\n",
        "plt.ylabel(\"Score\")\n",
        "plt.xlabel(\"N_estimate\")\n",
        "plt.title(\"Scores vs. Periods\")\n",
        "plt.tight_layout()\n",
        "plt.plot(A,B, label=\"Test \")\n",
        "plt.legend()"
      ],
      "execution_count": 154,
      "outputs": [
        {
          "output_type": "stream",
          "text": [
            "n_estimate: 10\n",
            "n_estimate: 20\n",
            "n_estimate: 30\n",
            "n_estimate: 40\n",
            "n_estimate: 50\n",
            "n_estimate: 60\n",
            "n_estimate: 70\n",
            "n_estimate: 80\n",
            "n_estimate: 90\n",
            "n_estimate: 100\n",
            "n_estimate: 110\n",
            "n_estimate: 120\n",
            "n_estimate: 130\n",
            "n_estimate: 140\n",
            "n_estimate: 150\n",
            "Optimization Complete!\n"
          ],
          "name": "stdout"
        },
        {
          "output_type": "execute_result",
          "data": {
            "text/plain": [
              "<matplotlib.legend.Legend at 0x7f4503e25490>"
            ]
          },
          "metadata": {
            "tags": []
          },
          "execution_count": 154
        },
        {
          "output_type": "display_data",
          "data": {
            "image/png": "[encoded data removed]",
            "text/plain": [
              "<matplotlib.figure.Figure at 0x7f4503f53510>"
            ]
          },
          "metadata": {
            "tags": []
          }
        }
      ]
    },
    {
      "metadata": {
        "id": "bZq_VrRiiR-n",
        "colab_type": "text"
      },
      "cell_type": "markdown",
      "source": [
        "其次优化次要参数min_samples_split\n"
      ]
    },
    {
      "metadata": {
        "id": "tUOz6PB9n7YH",
        "colab_type": "code",
        "colab": {
          "autoexec": {
            "startup": false,
            "wait_interval": 0
          },
          "base_uri": "https://localhost:8080/",
          "height": 34
        },
        "outputId": "740bf0a8-1bc7-4dfe-b107-906a6df0f44e",
        "executionInfo": {
          "status": "ok",
          "timestamp": 1524673577586,
          "user_tz": -480,
          "elapsed": 8213,
          "user": {
            "displayName": "温力成",
            "photoUrl": "//lh3.googleusercontent.com/-ifhVTrJ-LUs/AAAAAAAAAAI/AAAAAAAAAB8/B3xxHO0YEvw/s50-c-k-no/photo.jpg",
            "userId": "103637985383520117463"
          }
        }
      },
      "cell_type": "code",
      "source": [
        "clf = RandomForestClassifier(n_estimators=150,  min_samples_split=2, random_state=0)\n",
        "scores = cross_val_score(clf, X, Y.ravel())\n",
        "print scores.mean()"
      ],
      "execution_count": 158,
      "outputs": [
        {
          "output_type": "stream",
          "text": [
            "0.6558650298024048\n"
          ],
          "name": "stdout"
        }
      ]
    },
    {
      "metadata": {
        "id": "lOAlM91YkiG1",
        "colab_type": "code",
        "colab": {
          "autoexec": {
            "startup": false,
            "wait_interval": 0
          },
          "base_uri": "https://localhost:8080/",
          "height": 611
        },
        "outputId": "d65150cc-ce42-4d47-b865-479c59669b80",
        "executionInfo": {
          "status": "ok",
          "timestamp": 1524674089644,
          "user_tz": -480,
          "elapsed": 61898,
          "user": {
            "displayName": "温力成",
            "photoUrl": "//lh3.googleusercontent.com/-ifhVTrJ-LUs/AAAAAAAAAAI/AAAAAAAAAB8/B3xxHO0YEvw/s50-c-k-no/photo.jpg",
            "userId": "103637985383520117463"
          }
        }
      },
      "cell_type": "code",
      "source": [
        "a=[]\n",
        "b=[]\n",
        "for i in range(10):\n",
        "  a.append((i+1)*10)\n",
        "  clf = RandomForestClassifier(n_estimators=150,  min_samples_split=(i+1)*10, random_state=0)\n",
        "  scores = cross_val_score(clf, X, Y.ravel())\n",
        "  b.append(scores.mean())  \n",
        "  print \"min_samples_split:\",((i+1)*10), \"socres=\",scores.mean()\n",
        "print \"Optimization Complete!\"\n",
        "A = np.array(a)\n",
        "B = np.array(b)\n",
        "plt.ylabel(\"Score\")\n",
        "plt.xlabel(\"min_samples_split\")\n",
        "plt.title(\"Scores vs. min_samples_split\")\n",
        "plt.tight_layout()\n",
        "plt.plot(A,B, label=\"Test \")\n",
        "plt.legend()"
      ],
      "execution_count": 161,
      "outputs": [
        {
          "output_type": "stream",
          "text": [
            "min_samples_split: 10 socres= 0.6577320703784646\n",
            "min_samples_split: 20 socres= 0.6543990030505071\n",
            "min_samples_split: 30 socres= 0.659732710506567\n",
            "min_samples_split: 40 socres= 0.6527987897598063\n",
            "min_samples_split: 50 socres= 0.6605331906986439\n",
            "min_samples_split: 60 socres= 0.66079793715167\n",
            "min_samples_split: 70 socres= 0.6575990033491738\n",
            "min_samples_split: 80 socres= 0.6563993233918918\n",
            "min_samples_split: 90 socres= 0.6565321232638065\n",
            "min_samples_split: 100 socres= 0.6549316432423963\n",
            "Optimization Complete!\n"
          ],
          "name": "stdout"
        },
        {
          "output_type": "execute_result",
          "data": {
            "text/plain": [
              "<matplotlib.legend.Legend at 0x7f450b451350>"
            ]
          },
          "metadata": {
            "tags": []
          },
          "execution_count": 161
        },
        {
          "output_type": "display_data",
          "data": {
            "image/png": "[encoded data removed]",
            "text/plain": [
              "<matplotlib.figure.Figure at 0x7f450e07bc50>"
            ]
          },
          "metadata": {
            "tags": []
          }
        }
      ]
    },
    {
      "metadata": {
        "id": "srfl_eENiVHr",
        "colab_type": "text"
      },
      "cell_type": "markdown",
      "source": [
        "当n_estimators =150时，min_samples_split=60，score有最大值**65.18%。**"
      ]
    },
    {
      "metadata": {
        "id": "fegrFB-VntYx",
        "colab_type": "code",
        "colab": {
          "autoexec": {
            "startup": false,
            "wait_interval": 0
          },
          "base_uri": "https://localhost:8080/",
          "height": 34
        },
        "outputId": "d5de4d93-20f2-4235-dae5-38d1a11754be",
        "executionInfo": {
          "status": "ok",
          "timestamp": 1524658628383,
          "user_tz": -480,
          "elapsed": 2172,
          "user": {
            "displayName": "温力成",
            "photoUrl": "//lh3.googleusercontent.com/-ifhVTrJ-LUs/AAAAAAAAAAI/AAAAAAAAAB8/B3xxHO0YEvw/s50-c-k-no/photo.jpg",
            "userId": "103637985383520117463"
          }
        }
      },
      "cell_type": "code",
      "source": [
        "clf = RandomForestClassifier(n_estimators=40,  min_samples_split=40, random_state=0)\n",
        "scores = cross_val_score(clf, X, Y.ravel())\n",
        "scores.mean()"
      ],
      "execution_count": 113,
      "outputs": [
        {
          "output_type": "execute_result",
          "data": {
            "text/plain": [
              "0.6515998027733018"
            ]
          },
          "metadata": {
            "tags": []
          },
          "execution_count": 113
        }
      ]
    },
    {
      "metadata": {
        "id": "xdVUdhSwVbrL",
        "colab_type": "text"
      },
      "cell_type": "markdown",
      "source": [
        "#决策树分类器\n",
        "决策树算法借助于树的分支结构实现分类。树的内部结点表示对某个属性的判断，该结点的分支是对应的判断结果；叶子结点代表一个类标。\n"
      ]
    },
    {
      "metadata": {
        "id": "PmtLQp-OVhL-",
        "colab_type": "code",
        "colab": {
          "autoexec": {
            "startup": false,
            "wait_interval": 0
          }
        }
      },
      "cell_type": "code",
      "source": [
        "import io\n",
        "from scipy import misc\n",
        "from sklearn.tree import DecisionTreeClassifier, export_graphviz\n",
        "from sklearn.model_selection import cross_val_score\n",
        "import matplotlib.pyplot as plt"
      ],
      "execution_count": 0,
      "outputs": []
    },
    {
      "metadata": {
        "id": "7kmunpZviecj",
        "colab_type": "text"
      },
      "cell_type": "markdown",
      "source": [
        "代码使用scikit-learn自带的tree模块的DecisionTreeClassifier函数。\n"
      ]
    },
    {
      "metadata": {
        "id": "L8JyxvTgVzCP",
        "colab_type": "code",
        "colab": {
          "autoexec": {
            "startup": false,
            "wait_interval": 0
          }
        }
      },
      "cell_type": "code",
      "source": [
        "def build_decision_tree(X, y, depth=None):\n",
        "    a=[]\n",
        "    b=[]\n",
        "    for i in range(15):\n",
        "      dt = DecisionTreeClassifier(random_state=42, max_depth=i+1)\n",
        "      a.append((i+1))\n",
        "      print('max_depth:',i+1,'CV score:', cross_val_score(estimator=dt, X=X, y=y).mean())\n",
        "      b.append(cross_val_score(estimator=dt, X=X, y=y).mean())\n",
        "      dt.fit(X, y)\n",
        "    A = np.array(a)\n",
        "    B = np.array(b)\n",
        "    plt.ylabel(\"CV Score\")\n",
        "    plt.xlabel(\"max_depth\")\n",
        "    plt.title(\"Scores vs. max_depth\")\n",
        "    plt.tight_layout()\n",
        "    plt.plot(A,B, label=\"Train \")\n",
        "    plt.legend()\n",
        "    return dt"
      ],
      "execution_count": 0,
      "outputs": []
    },
    {
      "metadata": {
        "id": "b-VfSiMMihwn",
        "colab_type": "text"
      },
      "cell_type": "markdown",
      "source": [
        "栅格化搜索决策树深度最优解。\n",
        "\n",
        "Max_Depth=9, Accuracy=**59.68%**\n"
      ]
    },
    {
      "metadata": {
        "id": "Ofu8FrKGV3XO",
        "colab_type": "code",
        "colab": {
          "autoexec": {
            "startup": false,
            "wait_interval": 0
          },
          "base_uri": "https://localhost:8080/",
          "height": 663
        },
        "outputId": "1414e166-279b-4c1a-8b0f-54c6df3d0cab",
        "executionInfo": {
          "status": "ok",
          "timestamp": 1524673025245,
          "user_tz": -480,
          "elapsed": 12072,
          "user": {
            "displayName": "温力成",
            "photoUrl": "//lh3.googleusercontent.com/-ifhVTrJ-LUs/AAAAAAAAAAI/AAAAAAAAAB8/B3xxHO0YEvw/s50-c-k-no/photo.jpg",
            "userId": "103637985383520117463"
          }
        }
      },
      "cell_type": "code",
      "source": [
        "dt = build_decision_tree(X=X, y=Y, depth=8)"
      ],
      "execution_count": 152,
      "outputs": [
        {
          "output_type": "stream",
          "text": [
            "('max_depth:', 1, 'CV score:', 0.5421308852689416)\n",
            "('max_depth:', 2, 'CV score:', 0.5599994195625738)\n",
            "('max_depth:', 3, 'CV score:', 0.5616013405442145)\n",
            "('max_depth:', 4, 'CV score:', 0.5751997408852919)\n",
            "('max_depth:', 5, 'CV score:', 0.5848001684053602)\n",
            "('max_depth:', 6, 'CV score:', 0.5852000624213433)\n",
            "('max_depth:', 7, 'CV score:', 0.5942671567787451)\n",
            "('max_depth:', 8, 'CV score:', 0.5938675305601383)\n",
            "('max_depth:', 9, 'CV score:', 0.5968017710082834)\n",
            "('max_depth:', 10, 'CV score:', 0.59306710419207)\n",
            "('max_depth:', 11, 'CV score:', 0.5934661441919165)\n",
            "('max_depth:', 12, 'CV score:', 0.5826659294932154)\n",
            "('max_depth:', 13, 'CV score:', 0.5838669428053774)\n",
            "('max_depth:', 14, 'CV score:', 0.5789336623147193)\n",
            "('max_depth:', 15, 'CV score:', 0.5728002216320354)\n"
          ],
          "name": "stdout"
        },
        {
          "output_type": "display_data",
          "data": {
            "image/png": "[encoded data removed]",
            "text/plain": [
              "<matplotlib.figure.Figure at 0x7f450b5e1f10>"
            ]
          },
          "metadata": {
            "tags": []
          }
        }
      ]
    },
    {
      "metadata": {
        "id": "UgfJQ1Nxf6I5",
        "colab_type": "text"
      },
      "cell_type": "markdown",
      "source": [
        "#神经网络训练"
      ]
    },
    {
      "metadata": {
        "id": "jdnW7GdeSiBo",
        "colab_type": "text"
      },
      "cell_type": "markdown",
      "source": [
        "使用神经网络作为分类器\n",
        "\n",
        "3层隐藏层，每个隐藏层20个节点，输入为56features，输出2类。\n",
        "\n",
        "learning_rate = 0.001 \n",
        "training_epochs = 300 \n",
        "batch_size = 4000时，\n",
        "最优情况下**有59.32%的准确率**\n",
        "\n",
        "但极易发生过拟合现象\n",
        "\n",
        "\n"
      ]
    },
    {
      "metadata": {
        "id": "L4xQF1sud0v_",
        "colab_type": "code",
        "colab": {
          "autoexec": {
            "startup": false,
            "wait_interval": 0
          }
        }
      },
      "cell_type": "code",
      "source": [
        "# Parameters# Param \n",
        "learning_rate = 0.001\n",
        "training_epochs = 200\n",
        "batch_size = 4000\n",
        "display_step = 5\n",
        "\n",
        "\n",
        "# Network Parameters\n",
        "n_hidden_1 = 20 # 1st layer number of features\n",
        "n_hidden_2 = 20 # 2nd layer number of features\n",
        "n_hidden_3 = 20\n",
        "n_input = 56 # Number of feature\n",
        "n_classes = 2 # Number of classes to predict\n",
        "\n",
        "\n",
        "# tf Graph input\n",
        "x = tf.placeholder(\"float\", [None, n_input])\n",
        "y = tf.placeholder(\"float\", [None, n_classes])\n",
        "\n",
        "# Create model\n",
        "def multilayer_perceptron(x, weights, biases):\n",
        "    # Hidden layer with RELU activation\n",
        "    layer_1 = tf.add(tf.matmul(x, weights['h1']), biases['b1'])\n",
        "    layer_1 = tf.nn.relu(layer_1)\n",
        "    # Hidden layer with RELU activation\n",
        "    layer_2 = tf.add(tf.matmul(layer_1, weights['h2']), biases['b2'])\n",
        "    layer_2 = tf.nn.relu(layer_2)\n",
        "    # Hidden layer with RELU activation\n",
        "    layer_3 = tf.add(tf.matmul(layer_2, weights['h3']), biases['b3'])\n",
        "    layer_3 = tf.nn.relu(layer_3)\n",
        "    # Output layer with linear activation\n",
        "    out_layer = tf.matmul(layer_3, weights['out']) + biases['out']\n",
        "    return out_layer\n",
        "\n",
        "# Store layers weight & bias\n",
        "weights = {\n",
        "    'h1': tf.Variable(tf.random_normal([n_input, n_hidden_1])),\n",
        "    'h2': tf.Variable(tf.random_normal([n_hidden_1, n_hidden_2])),\n",
        "    'h3': tf.Variable(tf.random_normal([n_hidden_2, n_hidden_3])),\n",
        "    'out': tf.Variable(tf.random_normal([n_hidden_3, n_classes]))\n",
        "}\n",
        "\n",
        "biases = {\n",
        "    'b1': tf.Variable(tf.random_normal([n_hidden_1])),\n",
        "    'b2': tf.Variable(tf.random_normal([n_hidden_2])),\n",
        "    'b3': tf.Variable(tf.random_normal([n_hidden_3])),\n",
        "    'out': tf.Variable(tf.random_normal([n_classes]))\n",
        "}\n",
        "\n",
        "# Construct model\n",
        "pred = multilayer_perceptron(x, weights, biases)\n",
        "\n",
        "# Define loss and optimizer\n",
        "cost = tf.reduce_mean(tf.nn.softmax_cross_entropy_with_logits(logits=pred, labels=y))\n",
        "optimizer = tf.train.AdamOptimizer(learning_rate=learning_rate).minimize(cost)\n",
        "\n",
        "# Initializing the variables\n",
        "init = tf.global_variables_initializer()"
      ],
      "execution_count": 0,
      "outputs": []
    },
    {
      "metadata": {
        "id": "f5Lm0RYHfFe1",
        "colab_type": "code",
        "colab": {
          "autoexec": {
            "startup": false,
            "wait_interval": 0
          },
          "base_uri": "https://localhost:8080/",
          "height": 1833
        },
        "outputId": "fb6ded90-d517-4898-8a43-c9e618740d4f",
        "executionInfo": {
          "status": "ok",
          "timestamp": 1524674591040,
          "user_tz": -480,
          "elapsed": 7859,
          "user": {
            "displayName": "温力成",
            "photoUrl": "//lh3.googleusercontent.com/-ifhVTrJ-LUs/AAAAAAAAAAI/AAAAAAAAAB8/B3xxHO0YEvw/s50-c-k-no/photo.jpg",
            "userId": "103637985383520117463"
          }
        }
      },
      "cell_type": "code",
      "source": [
        "# Launch the graph\n",
        "a = []\n",
        "b = []\n",
        "c1 = []\n",
        "with tf.Session() as sess:\n",
        "    sess.run(init)\n",
        "    # Training cycle\n",
        "    for epoch in range(training_epochs):\n",
        "        avg_cost = 0.\n",
        "        total_batch = int(len(X)/batch_size)\n",
        "        X_batches = np.array_split(X, total_batch)\n",
        "        Y_batches = np.array_split(Y, total_batch)\n",
        "        # Loop over all batches\n",
        "        for i in range(total_batch):\n",
        "            batch_x, batch_y = X_batches[i], Y_batches[i]\n",
        "            # Run optimization op (backprop) and cost op (to get loss value)\n",
        "            _, c = sess.run([optimizer, cost], feed_dict={x: batch_x,\n",
        "                                                          y: batch_y})\n",
        "            # Compute average loss\n",
        "            avg_cost += c / total_batch\n",
        "        # Display logs per epoch step\n",
        "        if epoch % display_step == display_step-1:\n",
        "            print \"Epoch:\", '%04d' % (epoch+1), \"cost=\", \"{:.9f}\".format(avg_cost)\n",
        "            a.append(epoch+1)\n",
        "            #b.append(avg_cost)\n",
        "            # Test model\n",
        "            correct_prediction = tf.equal(tf.argmax(pred, 1), tf.argmax(y, 1))\n",
        "            # Calculate accuracy\n",
        "            accuracy = tf.reduce_mean(tf.cast(correct_prediction, \"float\"))\n",
        "            print \"Accuracy:\", accuracy.eval({x: X_test, y: Y_test})\n",
        "            b.append(accuracy.eval({x: X_test, y: Y_test}))\n",
        "    #end for\n",
        "    print(\"Optimization Finished!\")\n",
        "      # Output a graph of loss metrics over periods.\n",
        "    A = np.array(a)\n",
        "    B = np.array(b)\n",
        "    C = np.array(c1)\n",
        "    plt.ylabel(\"RMSE\")\n",
        "    plt.xlabel(\"Periods\")\n",
        "    plt.title(\"Root Mean Squared Error vs. Periods\")\n",
        "    plt.tight_layout()\n",
        "    plt.plot(A,B, label=\"Test \")\n",
        "    #plt.plot(A,C, label=\"Accuracy\")\n",
        "    plt.legend()\n",
        "\n",
        "    # Test model\n",
        "    correct_prediction = tf.equal(tf.argmax(pred, 1), tf.argmax(y, 1))\n",
        "    # Calculate accuracy\n",
        "    accuracy = tf.reduce_mean(tf.cast(correct_prediction, \"float\"))\n",
        "    print(\"Accuracy:\", accuracy.eval({x: X_test, y: Y_test}))\n",
        "    global result \n",
        "    result = tf.argmax(pred, 1).eval({x: X_test, y: Y_test})"
      ],
      "execution_count": 174,
      "outputs": [
        {
          "output_type": "stream",
          "text": [
            "Epoch: 0005 cost= 16134.125000000\n",
            "Accuracy: 0.502\n",
            "Epoch: 0010 cost= 14248.662109375\n",
            "Accuracy: 0.5048\n",
            "Epoch: 0015 cost= 12649.745117188\n",
            "Accuracy: 0.5164\n",
            "Epoch: 0020 cost= 11240.320312500\n",
            "Accuracy: 0.5108\n",
            "Epoch: 0025 cost= 10070.316406250\n",
            "Accuracy: 0.5176\n",
            "Epoch: 0030 cost= 9107.396484375\n",
            "Accuracy: 0.5284\n",
            "Epoch: 0035 cost= 8288.601562500\n",
            "Accuracy: 0.5336\n",
            "Epoch: 0040 cost= 7620.580566406\n",
            "Accuracy: 0.5428\n",
            "Epoch: 0045 cost= 7049.237792969\n",
            "Accuracy: 0.5472\n",
            "Epoch: 0050 cost= 6562.976074219\n",
            "Accuracy: 0.5528\n",
            "Epoch: 0055 cost= 6137.803222656\n",
            "Accuracy: 0.5556\n",
            "Epoch: 0060 cost= 5750.921386719\n",
            "Accuracy: 0.5624\n",
            "Epoch: 0065 cost= 5398.643554688\n",
            "Accuracy: 0.5664\n",
            "Epoch: 0070 cost= 5076.773437500\n",
            "Accuracy: 0.5672\n",
            "Epoch: 0075 cost= 4778.326171875\n",
            "Accuracy: 0.57\n",
            "Epoch: 0080 cost= 4503.961425781\n",
            "Accuracy: 0.574\n",
            "Epoch: 0085 cost= 4252.691406250\n",
            "Accuracy: 0.5744\n",
            "Epoch: 0090 cost= 4024.011474609\n",
            "Accuracy: 0.5768\n",
            "Epoch: 0095 cost= 3818.063232422\n",
            "Accuracy: 0.5828\n",
            "Epoch: 0100 cost= 3635.179687500\n",
            "Accuracy: 0.584\n",
            "Epoch: 0105 cost= 3471.219726562\n",
            "Accuracy: 0.5888\n",
            "Epoch: 0110 cost= 3322.371826172\n",
            "Accuracy: 0.5884\n",
            "Epoch: 0115 cost= 3185.248291016\n",
            "Accuracy: 0.5892\n",
            "Epoch: 0120 cost= 3061.026123047\n",
            "Accuracy: 0.5896\n",
            "Epoch: 0125 cost= 2949.115722656\n",
            "Accuracy: 0.5904\n",
            "Epoch: 0130 cost= 2847.855957031\n",
            "Accuracy: 0.5928\n",
            "Epoch: 0135 cost= 2754.863769531\n",
            "Accuracy: 0.5928\n",
            "Epoch: 0140 cost= 2669.505126953\n",
            "Accuracy: 0.5932\n",
            "Epoch: 0145 cost= 2590.887939453\n",
            "Accuracy: 0.596\n",
            "Epoch: 0150 cost= 2516.187011719\n",
            "Accuracy: 0.5964\n",
            "Epoch: 0155 cost= 2443.862304688\n",
            "Accuracy: 0.5968\n",
            "Epoch: 0160 cost= 2374.871582031\n",
            "Accuracy: 0.598\n",
            "Epoch: 0165 cost= 2309.209716797\n",
            "Accuracy: 0.5956\n",
            "Epoch: 0170 cost= 2246.266601562\n",
            "Accuracy: 0.5952\n",
            "Epoch: 0175 cost= 2184.827392578\n",
            "Accuracy: 0.5972\n",
            "Epoch: 0180 cost= 2124.850585938\n",
            "Accuracy: 0.5976\n",
            "Epoch: 0185 cost= 2065.856689453\n",
            "Accuracy: 0.5992\n",
            "Epoch: 0190 cost= 2008.557250977\n",
            "Accuracy: 0.5992\n",
            "Epoch: 0195 cost= 1953.247070312\n",
            "Accuracy: 0.5976\n",
            "Epoch: 0200 cost= 1898.974487305\n",
            "Accuracy: 0.5952\n",
            "Optimization Finished!\n",
            "('Accuracy:', 0.5952)\n"
          ],
          "name": "stdout"
        },
        {
          "output_type": "display_data",
          "data": {
            "image/png": "[encoded data removed]",
            "text/plain": [
              "<matplotlib.figure.Figure at 0x7f450206d5d0>"
            ]
          },
          "metadata": {
            "tags": []
          }
        }
      ]
    }
  ]
}